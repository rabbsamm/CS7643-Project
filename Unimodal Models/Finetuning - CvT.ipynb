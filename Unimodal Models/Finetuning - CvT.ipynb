{
 "cells": [
  {
   "cell_type": "code",
   "execution_count": 1,
   "id": "2482bce3",
   "metadata": {},
   "outputs": [],
   "source": [
    "from transformers import AutoFeatureExtractor, CvtForImageClassification\n",
    "from torch.utils.data import Dataset, DataLoader\n",
    "from string import digits\n",
    "from html import unescape\n",
    "from sklearn.model_selection import train_test_split\n",
    "from torchmetrics.functional.classification import auroc, accuracy\n",
    "\n",
    "import torchvision\n",
    "import torch\n",
    "import torch.nn as nn\n",
    "import pandas as pd\n",
    "import os\n",
    "import pytorch_lightning as pl\n",
    "import matplotlib.pyplot as plt\n",
    "\n",
    "torch.set_float32_matmul_precision('medium')"
   ]
  },
  {
   "cell_type": "code",
   "execution_count": 2,
   "id": "accd525c",
   "metadata": {},
   "outputs": [],
   "source": [
    "os.chdir(r'C:\\Users\\rabby\\CS 7643 - Deep Learning\\Project')\n",
    "device = torch.device('cuda' if torch.cuda.is_available() else 'cpu')\n",
    "config = {\n",
    "    'model_name': 'microsoft/cvt-21',\n",
    "    'n_labels': 14,\n",
    "    'batch_size': 32,\n",
    "    'dropout': 0.25,\n",
    "    'hidden_size': 1024,\n",
    "    'lr': 5e-5,\n",
    "    'n_epochs': 10,\n",
    "    'device': device,\n",
    "    'n_img_train': 20000,\n",
    "    'n_img_val': 2000,\n",
    "    'img_train': r'C:\\Users\\rabby\\CS 7643 - Deep Learning\\Project\\Data\\fairface-img-margin025-trainval\\train',\n",
    "    'img_val': r'C:\\Users\\rabby\\CS 7643 - Deep Learning\\Project\\Data\\fairface-img-margin025-trainval\\val',\n",
    "    'label_train':r'C:\\Users\\rabby\\CS 7643 - Deep Learning\\Project\\Data\\fairface-img-margin025-trainval\\fairface_label_train.csv',\n",
    "    'label_val': r'C:\\Users\\rabby\\CS 7643 - Deep Learning\\Project\\Data\\fairface-img-margin025-trainval\\fairface_label_val.csv',\n",
    "    'reload': False\n",
    "}"
   ]
  },
  {
   "cell_type": "code",
   "execution_count": 3,
   "id": "ccac0da3",
   "metadata": {},
   "outputs": [],
   "source": [
    "def Load_Images(config):\n",
    "    \n",
    "    #Load Train Data\n",
    "    i = 0\n",
    "    file_train = []\n",
    "    for dir_name, _, file_list in os.walk(config['img_train']):\n",
    "        for file in file_list:\n",
    "            if file:\n",
    "                img_name = os.path.join(dir_name, file)\n",
    "                if i == 0:\n",
    "                    img_train = torchvision.io.read_image(img_name)\n",
    "                    print('Training Image', str(i), 'loaded.')\n",
    "                else:\n",
    "                    img_train = torch.cat((img_train.view(i, 3, 224, 224), torchvision.io.read_image(img_name).view(1, 3, 224, 224)))\n",
    "                img_name_split = img_name.split('\\\\')\n",
    "                img_name_short = '/'.join(img_name_split[-2:])\n",
    "                file_train.append(img_name_short)\n",
    "                i += 1\n",
    "                if(i % 1000 == 0):\n",
    "                    print('Training Image', str(i), 'loaded.')\n",
    "            if i == config['n_img_train']:\n",
    "                break\n",
    "    print(str(i), 'training images loaded.')\n",
    "    labels_train_full = pd.read_csv(config['label_train'], index_col = 'file')\n",
    "    labels_train = labels_train_full.loc[file_train, ['gender', 'race']]\n",
    "    labels_train['label'] = pd.Categorical(labels_train['gender'] + '_' + labels_train['race'])\n",
    "    labels_train['label'] = labels_train['label'].cat.codes\n",
    "    print('---------------------------------')\n",
    "    #Load Val Data\n",
    "    i = 0\n",
    "    file_val = []\n",
    "    for dir_name, _, file_list in os.walk(config['img_val']):\n",
    "        for file in file_list:\n",
    "            if file:\n",
    "                img_name = os.path.join(dir_name, file)\n",
    "                if i == 0:\n",
    "                    img_val = torchvision.io.read_image(img_name)\n",
    "                    print('Validation Image', str(i), 'loaded.')\n",
    "                else:\n",
    "                    img_val = torch.cat((img_val.view(i, 3, 224, 224), torchvision.io.read_image(img_name).view(1, 3, 224, 224)))\n",
    "                img_name_split = img_name.split('\\\\')\n",
    "                img_name_short = '/'.join(img_name_split[-2:])\n",
    "                file_val.append(img_name_short)\n",
    "                i += 1\n",
    "                if(i % 1000 == 0):\n",
    "                    print('Validation Image', str(i), 'loaded.')\n",
    "            if i == config['n_img_val']:\n",
    "                break\n",
    "    print(str(i), 'validation images loaded.')  \n",
    "    labels_val_full = pd.read_csv(config['label_val'], index_col = 'file')\n",
    "    labels_val = labels_val_full.loc[file_val, ['gender', 'race']]\n",
    "    labels_val['label'] = pd.Categorical(labels_val['gender'] + '_' + labels_val['race'])\n",
    "    labels_val['label'] = labels_val['label'].cat.codes\n",
    "    \n",
    "    return img_train, labels_train, img_val, labels_val"
   ]
  },
  {
   "cell_type": "code",
   "execution_count": 4,
   "id": "c1c3adee",
   "metadata": {},
   "outputs": [],
   "source": [
    "class Images_Dataset(Dataset):\n",
    "    \n",
    "    def __init__(self, data, label):\n",
    "        #Declare variables\n",
    "        self.data = data\n",
    "        self.label = torch.tensor(label['label'])\n",
    "        \n",
    "    def __len__(self):\n",
    "        return len(self.data)\n",
    "    \n",
    "    def __getitem__(self, index):\n",
    "        return self.data[index], self.label[index]\n",
    "    \n",
    "class Images_Data_Module(pl.LightningDataModule):\n",
    "    \n",
    "    def __init__(self, train_data, train_label, val_data, val_label, batch_size = 16):\n",
    "        super().__init__()\n",
    "        self.train_data = train_data\n",
    "        self.train_label = train_label\n",
    "        self.val_data = val_data\n",
    "        self.val_label = val_label\n",
    "        self.batch_size = batch_size\n",
    "        \n",
    "    def setup(self, stage = None):\n",
    "        self.train_ds = Images_Dataset(self.train_data, self.train_label)\n",
    "        self.val_ds = Images_Dataset(self.val_data, self.val_label)\n",
    "        self.test_ds = Images_Dataset(self.val_data, self.val_label)\n",
    "        \n",
    "    def train_dataloader(self):\n",
    "        return DataLoader(self.train_ds, batch_size = self.batch_size, shuffle = True)\n",
    "    \n",
    "    def val_dataloader(self):\n",
    "        return DataLoader(self.val_ds, batch_size = self.batch_size, shuffle = False)\n",
    "    \n",
    "    def test_dataloader(self):\n",
    "        return DataLoader(self.test_ds, batch_size = self.batch_size, shuffle = False)"
   ]
  },
  {
   "cell_type": "code",
   "execution_count": 5,
   "id": "9e51f546",
   "metadata": {},
   "outputs": [],
   "source": [
    "class Fair_Classifier(pl.LightningModule):\n",
    "\n",
    "    def __init__(self, config):\n",
    "        super().__init__()\n",
    "        self.config = config\n",
    "        self.feature_extractor = AutoFeatureExtractor.from_pretrained(config['model_name'])\n",
    "        self.model = CvtForImageClassification.from_pretrained(config['model_name']).to(device)\n",
    "        self.new_classifier = nn.Linear(384, self.config['hidden_size']).to(device)\n",
    "        torch.nn.init.xavier_uniform_(self.new_classifier.weight)\n",
    "        self.model.classifier = self.new_classifier\n",
    "        self.linear = nn.Sequential(nn.ReLU(), \n",
    "                                    nn.Dropout(config['dropout']), \n",
    "                                    nn.Linear(self.config['hidden_size'], self.config['n_labels']))\n",
    "        self.softmax = nn.Softmax(dim = 1)\n",
    "        self.loss = nn.CrossEntropyLoss()\n",
    "        self.training_step_outputs = []\n",
    "        self.training_auroc = []\n",
    "        self.training_acc = []\n",
    "        self.validation_step_outputs = []\n",
    "        self.validation_auroc = []\n",
    "        self.validation_acc = []\n",
    "        self.test_step_outputs = []\n",
    "        self.test_auroc = []\n",
    "        self.test_acc = []\n",
    "        self.tloss = []\n",
    "        self.tauroc = []\n",
    "        self.tacc = []\n",
    "        self.vloss = []\n",
    "        self.vauroc = []\n",
    "        self.vacc = []\n",
    "           \n",
    "    def forward(self, x, labels = None):\n",
    "        features = self.feature_extractor(x, return_tensors=\"pt\")['pixel_values']\n",
    "        features = features.to(self.config['device'])\n",
    "        out = self.model(features)\n",
    "        out = self.linear(out.logits)\n",
    "        return out\n",
    "    \n",
    "    def training_step(self, batch, batch_index):\n",
    "        loss, out, y = self._common_step(batch, batch_index)\n",
    "        pred = self.softmax(out)\n",
    "        t_auroc = auroc(pred, y, task = 'multiclass', num_classes = self.config['n_labels'])\n",
    "        t_acc = accuracy(pred, y, task = 'multiclass', num_classes = self.config['n_labels'])\n",
    "        self.training_step_outputs.append(loss)\n",
    "        self.training_auroc.append(t_auroc)\n",
    "        self.training_acc.append(t_acc)\n",
    "        self.log(\"Training Accuracy\", t_acc, prog_bar = True, logger = True)\n",
    "        return loss\n",
    "    \n",
    "    def on_train_epoch_end(self):\n",
    "        epoch_mean = torch.stack(self.training_step_outputs).mean()\n",
    "        epoch_auroc = torch.stack(self.training_auroc).mean()\n",
    "        epoch_acc = torch.stack(self.training_acc).mean()\n",
    "        self.tloss.append(float(epoch_mean.detach().cpu().numpy()))\n",
    "        self.tauroc.append(float(epoch_auroc.detach().cpu().numpy()))\n",
    "        self.tacc.append(float(epoch_acc.detach().cpu().numpy()))\n",
    "        self.training_step_outputs.clear()\n",
    "        self.training_auroc.clear()\n",
    "        self.training_acc.clear()\n",
    "    \n",
    "    def validation_step(self, batch, batch_index):\n",
    "        loss, out, y = self._common_step(batch, batch_index)\n",
    "        pred = self.softmax(out)\n",
    "        v_auroc = auroc(pred, y, task = 'multiclass', num_classes = self.config['n_labels'])\n",
    "        v_acc = accuracy(pred, y, task = 'multiclass', num_classes = self.config['n_labels'])\n",
    "        self.validation_step_outputs.append(loss)\n",
    "        self.validation_auroc.append(v_auroc)\n",
    "        self.validation_acc.append(v_acc)\n",
    "        self.log(\"Validation Accuracy\", v_acc, prog_bar = True, logger = True)\n",
    "        return loss\n",
    "    \n",
    "    def on_validation_epoch_end(self):\n",
    "        epoch_mean = torch.stack(self.validation_step_outputs).mean()\n",
    "        epoch_auroc = torch.stack(self.validation_auroc).mean()\n",
    "        epoch_acc = torch.stack(self.validation_acc).mean()\n",
    "        self.vloss.append(float(epoch_mean.detach().cpu().numpy()))\n",
    "        self.vauroc.append(float(epoch_auroc.detach().cpu().numpy()))\n",
    "        self.vacc.append(float(epoch_acc.detach().cpu().numpy()))\n",
    "        self.validation_step_outputs.clear()\n",
    "        self.validation_auroc.clear()\n",
    "        self.validation_acc.clear()\n",
    "    \n",
    "    def test_step(self, batch, batch_index):\n",
    "        loss, out, y = self._common_step(batch, batch_index)\n",
    "        pred = self.softmax(out)\n",
    "        t_auroc = auroc(pred, y, task = 'multiclass', num_classes = self.config['n_labels'])\n",
    "        t_acc = accuracy(pred, y, task = 'multiclass', num_classes = self.config['n_labels'])\n",
    "        self.test_step_outputs.append(loss)\n",
    "        self.test_auroc.append(t_auroc)\n",
    "        self.test_acc.append(t_acc)\n",
    "        self.log(\"Test Accuracy\", t_acc, prog_bar = True, logger = True)\n",
    "        return loss\n",
    "\n",
    "    def predict_step(self, batch, batch_index):\n",
    "        loss, out, y = self._common_step(batch, batch_index)\n",
    "        return loss\n",
    "    \n",
    "    def _common_step(self, batch, batch_index):\n",
    "        x, y = batch\n",
    "        x = x.type(torch.cuda.FloatTensor)\n",
    "        y = y.type(torch.LongTensor)\n",
    "        y = y.to(config['device'])\n",
    "        out = self.forward(x)\n",
    "        loss = self.loss(out, y)\n",
    "        return loss, out, y\n",
    "    \n",
    "    def configure_optimizers(self):\n",
    "        optimizer = torch.optim.AdamW(self.parameters(), lr = self.config['lr'])\n",
    "        return [optimizer]\n",
    "    \n",
    "    def plot_loss(self):\n",
    "        self.vloss.pop()\n",
    "        plt.plot(self.tloss, label = 'Training')\n",
    "        plt.plot(self.vloss, label = 'Validation')\n",
    "        plt.title('Loss')\n",
    "        plt.xlabel('Epochs')\n",
    "        plt.ylabel('Loss')\n",
    "        plt.legend()\n",
    "        plt.show()\n",
    "        \n",
    "    def plot_auroc(self):\n",
    "        self.vauroc.pop()\n",
    "        plt.plot(self.tauroc, label = 'Training')\n",
    "        plt.plot(self.vauroc, label = 'Validation')\n",
    "        plt.title('AUROC')\n",
    "        plt.xlabel('Epochs')\n",
    "        plt.ylabel('Loss')\n",
    "        plt.legend()\n",
    "        plt.show()\n",
    "        \n",
    "    def plot_accuracy(self):\n",
    "        self.vacc.pop()\n",
    "        plt.plot(self.tacc, label = 'Training')\n",
    "        plt.plot(self.vacc, label = 'Validation')\n",
    "        plt.title('Accuracy')\n",
    "        plt.xlabel('Epochs')\n",
    "        plt.ylabel('Loss')\n",
    "        plt.legend()\n",
    "        plt.show()"
   ]
  },
  {
   "cell_type": "code",
   "execution_count": 6,
   "id": "0d7a5045",
   "metadata": {},
   "outputs": [
    {
     "name": "stderr",
     "output_type": "stream",
     "text": [
      "C:\\ProgramData\\anaconda3\\Lib\\site-packages\\transformers\\models\\convnext\\feature_extraction_convnext.py:28: FutureWarning: The class ConvNextFeatureExtractor is deprecated and will be removed in version 5 of Transformers. Please use ConvNextImageProcessor instead.\n",
      "  warnings.warn(\n",
      "GPU available: True (cuda), used: True\n",
      "TPU available: False, using: 0 TPU cores\n",
      "IPU available: False, using: 0 IPUs\n",
      "HPU available: False, using: 0 HPUs\n",
      "LOCAL_RANK: 0 - CUDA_VISIBLE_DEVICES: [0]\n",
      "\n",
      "  | Name           | Type                      | Params\n",
      "-------------------------------------------------------------\n",
      "0 | model          | CvtForImageClassification | 31.6 M\n",
      "1 | new_classifier | Linear                    | 394 K \n",
      "2 | linear         | Sequential                | 14.3 K\n",
      "3 | softmax        | Softmax                   | 0     \n",
      "4 | loss           | CrossEntropyLoss          | 0     \n",
      "-------------------------------------------------------------\n",
      "31.6 M    Trainable params\n",
      "0         Non-trainable params\n",
      "31.6 M    Total params\n",
      "126.585   Total estimated model params size (MB)\n",
      "C:\\ProgramData\\anaconda3\\Lib\\site-packages\\pytorch_lightning\\trainer\\connectors\\data_connector.py:432: PossibleUserWarning: The dataloader, train_dataloader, does not have many workers which may be a bottleneck. Consider increasing the value of the `num_workers` argument` (try 16 which is the number of cpus on this machine) in the `DataLoader` init to improve performance.\n",
      "  rank_zero_warn(\n",
      "C:\\ProgramData\\anaconda3\\Lib\\site-packages\\pytorch_lightning\\trainer\\connectors\\data_connector.py:432: PossibleUserWarning: The dataloader, val_dataloader, does not have many workers which may be a bottleneck. Consider increasing the value of the `num_workers` argument` (try 16 which is the number of cpus on this machine) in the `DataLoader` init to improve performance.\n",
      "  rank_zero_warn(\n"
     ]
    },
    {
     "data": {
      "application/vnd.jupyter.widget-view+json": {
       "model_id": "11a1e7a5a1de4bcf821ffb4bb3253fe1",
       "version_major": 2,
       "version_minor": 0
      },
      "text/plain": [
       "Training: 0it [00:00, ?it/s]"
      ]
     },
     "metadata": {},
     "output_type": "display_data"
    },
    {
     "name": "stderr",
     "output_type": "stream",
     "text": [
      "C:\\ProgramData\\anaconda3\\Lib\\site-packages\\torchmetrics\\utilities\\prints.py:36: UserWarning: No positive samples in targets, true positive value should be meaningless. Returning zero tensor in true positive score\n",
      "  warnings.warn(*args, **kwargs)\n"
     ]
    },
    {
     "data": {
      "application/vnd.jupyter.widget-view+json": {
       "model_id": "",
       "version_major": 2,
       "version_minor": 0
      },
      "text/plain": [
       "Validation: 0it [00:00, ?it/s]"
      ]
     },
     "metadata": {},
     "output_type": "display_data"
    },
    {
     "data": {
      "application/vnd.jupyter.widget-view+json": {
       "model_id": "",
       "version_major": 2,
       "version_minor": 0
      },
      "text/plain": [
       "Validation: 0it [00:00, ?it/s]"
      ]
     },
     "metadata": {},
     "output_type": "display_data"
    },
    {
     "data": {
      "application/vnd.jupyter.widget-view+json": {
       "model_id": "",
       "version_major": 2,
       "version_minor": 0
      },
      "text/plain": [
       "Validation: 0it [00:00, ?it/s]"
      ]
     },
     "metadata": {},
     "output_type": "display_data"
    },
    {
     "name": "stderr",
     "output_type": "stream",
     "text": [
      "C:\\ProgramData\\anaconda3\\Lib\\site-packages\\pytorch_lightning\\trainer\\call.py:52: UserWarning: Detected KeyboardInterrupt, attempting graceful shutdown...\n",
      "  rank_zero_warn(\"Detected KeyboardInterrupt, attempting graceful shutdown...\")\n",
      "LOCAL_RANK: 0 - CUDA_VISIBLE_DEVICES: [0]\n"
     ]
    },
    {
     "data": {
      "application/vnd.jupyter.widget-view+json": {
       "model_id": "dae7d5d979014789a395036c5ae8745e",
       "version_major": 2,
       "version_minor": 0
      },
      "text/plain": [
       "Validation: 0it [00:00, ?it/s]"
      ]
     },
     "metadata": {},
     "output_type": "display_data"
    },
    {
     "name": "stderr",
     "output_type": "stream",
     "text": [
      "LOCAL_RANK: 0 - CUDA_VISIBLE_DEVICES: [0]\n",
      "C:\\ProgramData\\anaconda3\\Lib\\site-packages\\pytorch_lightning\\trainer\\connectors\\data_connector.py:432: PossibleUserWarning: The dataloader, test_dataloader, does not have many workers which may be a bottleneck. Consider increasing the value of the `num_workers` argument` (try 16 which is the number of cpus on this machine) in the `DataLoader` init to improve performance.\n",
      "  rank_zero_warn(\n"
     ]
    },
    {
     "data": {
      "application/vnd.jupyter.widget-view+json": {
       "model_id": "45a88e87e4f3458fab6c681c235ff110",
       "version_major": 2,
       "version_minor": 0
      },
      "text/plain": [
       "Testing: 0it [00:00, ?it/s]"
      ]
     },
     "metadata": {},
     "output_type": "display_data"
    }
   ],
   "source": [
    "# datamodule\n",
    "if config['reload'] == True:\n",
    "    raw_img = Load_Images(config)\n",
    "    img_data_module = Images_Data_Module(*raw_img, batch_size = config['batch_size'])\n",
    "else:\n",
    "    train_data = torch.load('img_train20.pt')\n",
    "    train_label = pd.read_csv('labels_train20.csv')\n",
    "    val_data = torch.load('img_val20.pt')\n",
    "    val_label = pd.read_csv('labels_val20.csv')\n",
    "    img_data_module = Images_Data_Module(train_data, train_label, val_data, val_label, batch_size = config['batch_size'])\n",
    "\n",
    "# model\n",
    "model = Fair_Classifier(config)\n",
    "\n",
    "# trainer and fit\n",
    "trainer = pl.Trainer(max_epochs = config['n_epochs'], devices = 1, accelerator = \"gpu\", num_sanity_val_steps = 0)\n",
    "trainer.fit(model, img_data_module)\n",
    "trainer.validate(model, img_data_module)\n",
    "trainer.test(model, img_data_module)"
   ]
  },
  {
   "cell_type": "code",
   "execution_count": 7,
   "id": "f878fd0e",
   "metadata": {},
   "outputs": [
    {
     "data": {
      "image/png": "[encoded data removed]",
      "text/plain": [
       "<Figure size 640x480 with 1 Axes>"
      ]
     },
     "metadata": {},
     "output_type": "display_data"
    }
   ],
   "source": [
    "model.plot_loss()"
   ]
  },
  {
   "cell_type": "code",
   "execution_count": 8,
   "id": "65e5114b",
   "metadata": {},
   "outputs": [
    {
     "name": "stderr",
     "output_type": "stream",
     "text": [
      "\n",
      "KeyboardInterrupt\n",
      "\n"
     ]
    },
    {
     "data": {
      "image/png": "[encoded data removed]",
      "text/plain": [
       "<Figure size 640x480 with 1 Axes>"
      ]
     },
     "metadata": {},
     "output_type": "display_data"
    }
   ],
   "source": [
    "model.plot_auroc()"
   ]
  },
  {
   "cell_type": "code",
   "execution_count": null,
   "id": "cd708dc6",
   "metadata": {},
   "outputs": [],
   "source": [
    "model.plot_accuracy()"
   ]
  }
 ],
 "metadata": {
  "kernelspec": {
   "display_name": "Python 3 (ipykernel)",
   "language": "python",
   "name": "python3"
  },
  "language_info": {
   "codemirror_mode": {
    "name": "ipython",
    "version": 3
   },
   "file_extension": ".py",
   "mimetype": "text/x-python",
   "name": "python",
   "nbconvert_exporter": "python",
   "pygments_lexer": "ipython3",
   "version": "3.11.5"
  }
 },
 "nbformat": 4,
 "nbformat_minor": 5
}
